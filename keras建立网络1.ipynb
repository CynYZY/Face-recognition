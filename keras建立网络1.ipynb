{
 "cells": [
  {
   "cell_type": "markdown",
   "metadata": {},
   "source": [
    "## 1. 导入tf.keras"
   ]
  },
  {
   "cell_type": "code",
   "execution_count": 4,
   "metadata": {},
   "outputs": [
    {
     "name": "stdout",
     "output_type": "stream",
     "text": [
      "tf.__version__ = 2.0.0-alpha0\n",
      "tf.keras.__version__ = 2.2.4-tf\n"
     ]
    }
   ],
   "source": [
    "import tensorflow as tf\n",
    "from tensorflow.keras import layers\n",
    "print(\"tf.__version__ = \"+tf.__version__)\n",
    "print(\"tf.keras.__version__ = \"+tf.keras.__version__)"
   ]
  },
  {
   "cell_type": "markdown",
   "metadata": {},
   "source": [
    "## 2 利用tf.keras.Sequential堆叠简单网络"
   ]
  },
  {
   "cell_type": "code",
   "execution_count": 2,
   "metadata": {},
   "outputs": [],
   "source": [
    "model = tf.keras.Sequential()\n",
    "model.add(layers.Dense(32, activation=tf.sigmoid))\n",
    "model.add(layers.Dense(32, activation='relu'))\n",
    "model.add(layers.Dense(10, activation='softmax'))\n",
    "model.compile(optimizer=tf.keras.optimizers.Adam(0.001),\n",
    "             loss=tf.keras.losses.categorical_crossentropy,\n",
    "             metrics=[tf.keras.metrics.categorical_accuracy])\n"
   ]
  },
  {
   "cell_type": "markdown",
   "metadata": {},
   "source": [
    "## 3 输入Numpy数据"
   ]
  },
  {
   "cell_type": "code",
   "execution_count": 5,
   "metadata": {},
   "outputs": [
    {
     "name": "stdout",
     "output_type": "stream",
     "text": [
      "Train on 1000 samples, validate on 200 samples\n",
      "Epoch 1/10\n",
      "1000/1000 [==============================] - 0s 56us/sample - loss: 21.7186 - categorical_accuracy: 0.1000 - val_loss: 22.5483 - val_categorical_accuracy: 0.0800\n",
      "Epoch 2/10\n",
      "1000/1000 [==============================] - 0s 58us/sample - loss: 22.8766 - categorical_accuracy: 0.1050 - val_loss: 23.7850 - val_categorical_accuracy: 0.0900\n",
      "Epoch 3/10\n",
      "1000/1000 [==============================] - 0s 55us/sample - loss: 24.2126 - categorical_accuracy: 0.1030 - val_loss: 25.2164 - val_categorical_accuracy: 0.0950\n",
      "Epoch 4/10\n",
      "1000/1000 [==============================] - 0s 60us/sample - loss: 25.6249 - categorical_accuracy: 0.1040 - val_loss: 26.6795 - val_categorical_accuracy: 0.1150\n",
      "Epoch 5/10\n",
      "1000/1000 [==============================] - 0s 57us/sample - loss: 27.0139 - categorical_accuracy: 0.1080 - val_loss: 27.8971 - val_categorical_accuracy: 0.1150\n",
      "Epoch 6/10\n",
      "1000/1000 [==============================] - 0s 58us/sample - loss: 28.0325 - categorical_accuracy: 0.1070 - val_loss: 28.7657 - val_categorical_accuracy: 0.0950\n",
      "Epoch 7/10\n",
      "1000/1000 [==============================] - 0s 59us/sample - loss: 28.7966 - categorical_accuracy: 0.1110 - val_loss: 29.3052 - val_categorical_accuracy: 0.1250\n",
      "Epoch 8/10\n",
      "1000/1000 [==============================] - 0s 65us/sample - loss: 29.3379 - categorical_accuracy: 0.1000 - val_loss: 29.8043 - val_categorical_accuracy: 0.0950\n",
      "Epoch 9/10\n",
      "1000/1000 [==============================] - 0s 53us/sample - loss: 29.7010 - categorical_accuracy: 0.1080 - val_loss: 30.1630 - val_categorical_accuracy: 0.1150\n",
      "Epoch 10/10\n",
      "1000/1000 [==============================] - 0s 65us/sample - loss: 30.2335 - categorical_accuracy: 0.1120 - val_loss: 30.6612 - val_categorical_accuracy: 0.0950\n"
     ]
    },
    {
     "data": {
      "text/plain": [
       "<tensorflow.python.keras.callbacks.History at 0x22339484be0>"
      ]
     },
     "execution_count": 5,
     "metadata": {},
     "output_type": "execute_result"
    }
   ],
   "source": [
    "import numpy as np\n",
    "\n",
    "train_x = np.random.random((1000, 72))\n",
    "train_y = np.random.random((1000, 10))\n",
    "\n",
    "val_x = np.random.random((200, 72))\n",
    "val_y = np.random.random((200, 10))\n",
    "\n",
    "model.fit(train_x, train_y, epochs=100, batch_size=100,\n",
    "          validation_data=(val_x, val_y))\n"
   ]
  },
  {
   "cell_type": "code",
   "execution_count": null,
   "metadata": {},
   "outputs": [],
   "source": []
  },
  {
   "cell_type": "code",
   "execution_count": null,
   "metadata": {},
   "outputs": [],
   "source": []
  }
 ],
 "metadata": {
  "kernelspec": {
   "display_name": "Python [conda env:tensorflow2]",
   "language": "python",
   "name": "conda-env-tensorflow2-py"
  },
  "language_info": {
   "codemirror_mode": {
    "name": "ipython",
    "version": 3
   },
   "file_extension": ".py",
   "mimetype": "text/x-python",
   "name": "python",
   "nbconvert_exporter": "python",
   "pygments_lexer": "ipython3",
   "version": "3.7.3"
  }
 },
 "nbformat": 4,
 "nbformat_minor": 2
}
